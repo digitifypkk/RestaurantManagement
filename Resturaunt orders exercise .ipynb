{
 "cells": [
  {
   "cell_type": "code",
   "execution_count": 6,
   "id": "df64d4d1",
   "metadata": {},
   "outputs": [
    {
     "name": "stdout",
     "output_type": "stream",
     "text": [
      "\n",
      "Popular dishes in the restaurant along with their prices:\n",
      "Zinger: 450\n",
      "Chicken Handi: 1200\n",
      "Beef Burger: 500\n",
      "French Fries: 150\n",
      "Pizza: 1500\n",
      "Chicken Chilli Dry: 600\n",
      "\n",
      "Table reserved in the Restaurant:\n",
      "Table 1\n",
      "Table 2\n",
      "Table 3\n",
      "\n",
      "Print customer orders:\n",
      "Table 1: Zinger\n",
      "Table 1: Chicken Handi\n",
      "Table 2: French Fries\n",
      "Table 2: Pizza\n"
     ]
    }
   ],
   "source": [
    "class Restaurant:\n",
    "    def __init__(self):\n",
    "        self.menu_items = {}\n",
    "        self.book_table = []\n",
    "        self.customer_orders = []\n",
    "\n",
    "    def add_item_to_menu(self, item, price):\n",
    "        self.menu_items[item] = price\n",
    "\n",
    "    def book_tables(self, table_number):\n",
    "        self.book_table.append(table_number)\n",
    "\n",
    "    def customer_order(self, table_number, order):\n",
    "        order_details = {'table_number': table_number, 'order': order}\n",
    "        self.customer_orders.append(order_details)\n",
    "\n",
    "    def print_menu_items(self):\n",
    "        for item, price in self.menu_items.items():\n",
    "            print(\"{}: {}\".format(item, price))\n",
    "\n",
    "    def print_table_reservations(self):\n",
    "        for table in self.book_table:\n",
    "            print(\"Table {}\".format(table))\n",
    "\n",
    "    def print_customer_orders(self):\n",
    "        for order in self.customer_orders:\n",
    "            print(\"Table {}: {}\".format(order['table_number'], order['order']))\n",
    "\n",
    "restaurant = Restaurant()\n",
    "\n",
    "# Add items\n",
    "restaurant.add_item_to_menu(\"Zinger\", 450)\n",
    "restaurant.add_item_to_menu(\"Chicken Handi\",1200)\n",
    "restaurant.add_item_to_menu(\"Beef Burger\", 500)\n",
    "restaurant.add_item_to_menu(\"French Fries\", 150)\n",
    "restaurant.add_item_to_menu(\"Pizza\", 1500)\n",
    "restaurant.add_item_to_menu(\"Chicken Chilli Dry\", 600)\n",
    "# Book table\n",
    "restaurant.book_tables(1)\n",
    "restaurant.book_tables(2)\n",
    "restaurant.book_tables(3)\n",
    "# Order items\n",
    "restaurant.customer_order(1, \"Zinger\")\n",
    "restaurant.customer_order(1, \"Chicken Handi\")\n",
    "restaurant.customer_order(2, \"French Fries\")\n",
    "restaurant.customer_order(2, \"Pizza\")\n",
    "\n",
    "print(\"\\nPopular dishes in the restaurant along with their prices:\")\n",
    "restaurant.print_menu_items()\n",
    "print(\"\\nTable reserved in the Restaurant:\")\n",
    "restaurant.print_table_reservations()\n",
    "print(\"\\nPrint customer orders:\")\n",
    "restaurant.print_customer_orders()"
   ]
  },
  {
   "cell_type": "code",
   "execution_count": null,
   "id": "6c2dedf0",
   "metadata": {},
   "outputs": [],
   "source": []
  }
 ],
 "metadata": {
  "kernelspec": {
   "display_name": "Python 3 (ipykernel)",
   "language": "python",
   "name": "python3"
  },
  "language_info": {
   "codemirror_mode": {
    "name": "ipython",
    "version": 3
   },
   "file_extension": ".py",
   "mimetype": "text/x-python",
   "name": "python",
   "nbconvert_exporter": "python",
   "pygments_lexer": "ipython3",
   "version": "3.11.4"
  }
 },
 "nbformat": 4,
 "nbformat_minor": 5
}
